{
 "cells": [
  {
   "cell_type": "code",
   "execution_count": 5,
   "metadata": {},
   "outputs": [],
   "source": [
    "import math"
   ]
  },
  {
   "cell_type": "code",
   "execution_count": 9,
   "metadata": {},
   "outputs": [],
   "source": [
    "class Point:\n",
    "    'Represents a point in a two-dim geometric coordinates'\n",
    "    def __init__(self,x=0, y=0):\n",
    "        '''\n",
    "        Initialize the position of a new point.\n",
    "        X and y coordinates can be specificed. \n",
    "        If the a not, the point defaults to the origin.\n",
    "        '''\n",
    "        self.move(x,y)\n",
    "        \n",
    "    def move(self,x,y):\n",
    "        '''\n",
    "        Move th point to a new space in a 2-D space.\n",
    "        '''\n",
    "        self.x = x\n",
    "        self.y = y\n",
    "    \n",
    "    def reset(self):\n",
    "        '''\n",
    "        Reset the point back to the geometric origin: 0,0\n",
    "        '''\n",
    "        self.move(0,0)\n",
    "        \n",
    "    def calculate_distance(self, other_point):\n",
    "        '''\n",
    "        Calculate the distance from this point to another.\n",
    "        point passed as a parameter.\n",
    "        This function uses the Pythagorean Theorem to calculate\n",
    "        the distance between the two points. The distance is\n",
    "        returned as a float.\n",
    "        '''\n",
    "        return math.sqrt((self.x - other_point.x) ** 2 +\n",
    "                        (self.y - other_point.y) ** 2)"
   ]
  },
  {
   "cell_type": "code",
   "execution_count": null,
   "metadata": {},
   "outputs": [],
   "source": []
  }
 ],
 "metadata": {
  "kernelspec": {
   "display_name": "Python 3",
   "language": "python",
   "name": "python3"
  },
  "language_info": {
   "codemirror_mode": {
    "name": "ipython",
    "version": 3
   },
   "file_extension": ".py",
   "mimetype": "text/x-python",
   "name": "python",
   "nbconvert_exporter": "python",
   "pygments_lexer": "ipython3",
   "version": "3.8.3"
  }
 },
 "nbformat": 4,
 "nbformat_minor": 4
}
