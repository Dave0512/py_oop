{
 "cells": [
  {
   "cell_type": "code",
   "execution_count": 41,
   "metadata": {},
   "outputs": [
    {
     "data": {
      "text/plain": [
       "11"
      ]
     },
     "execution_count": 41,
     "metadata": {},
     "output_type": "execute_result"
    }
   ],
   "source": [
    "class Car():\n",
    "    '''\n",
    "    Base-class for every kind of car\n",
    "    '''\n",
    "    def __init__(self,wheels=4):\n",
    "        ''' \n",
    "        No matter their engine, every car has for wheels by default\n",
    "        '''\n",
    "    \n",
    "class Gasoline(Car):\n",
    "    '''\n",
    "    Car with Gasoline fluel. Inherits from car\n",
    "    '''\n",
    "    def __init__(self, engine=\"Gasoline\",tank_capacity=20):\n",
    "        '''\n",
    "        Consists of default attributes of car, added by individual attributes of gasoline\n",
    "        '''\n",
    "        Car.__init__(self) # Inherits from Car __init__\n",
    "        self.engine = engine\n",
    "        self.tank_capacity = tank_capacity # represents fuel tank capacity in gallons\n",
    "        self.tank = 0 # Default start fuel value \n",
    "    \n",
    "    def refuel(self):\n",
    "        self.tank = self.tank_capacity\n",
    "\n",
    "\n",
    "class Electric(Car):\n",
    "    '''\n",
    "    Car with Electric engine. Inherits from Car\n",
    "    '''\n",
    "    def __init__(self, engine=\"Electric\",kWh_capacity=60):\n",
    "        self.engine = engine\n",
    "        self.kWh_capacity = kWh_capacity # represents battery in kilowatt-hours\n",
    "        self.kWh = 0\n",
    "    \n",
    "    def recharge(self):\n",
    "        self.kWh = self.kWh_capacity\n",
    "        \n",
    "class Hybrid(Gasoline,Electric):\n",
    "    '''\n",
    "    Class = Derived class that shares properties of both classes \n",
    "    '''\n",
    "    def __init__(self, engine='Hybrid',tank_cap=11,kWh_cap=5):\n",
    "        '''\n",
    "        Class is initialized with attributes from both classes\n",
    "        '''\n",
    "        Gasoline.__init__(self,engine,tank_cap)\n",
    "        Electric.__init__(self,engine,kWh_cap)\n",
    "        \n",
    "Prius = Hybrid()\n",
    "Prius.tank_capacity"
   ]
  },
  {
   "cell_type": "code",
   "execution_count": null,
   "metadata": {},
   "outputs": [],
   "source": []
  },
  {
   "cell_type": "code",
   "execution_count": null,
   "metadata": {},
   "outputs": [],
   "source": []
  }
 ],
 "metadata": {
  "kernelspec": {
   "display_name": "Python 3",
   "language": "python",
   "name": "python3"
  },
  "language_info": {
   "codemirror_mode": {
    "name": "ipython",
    "version": 3
   },
   "file_extension": ".py",
   "mimetype": "text/x-python",
   "name": "python",
   "nbconvert_exporter": "python",
   "pygments_lexer": "ipython3",
   "version": "3.8.1"
  }
 },
 "nbformat": 4,
 "nbformat_minor": 4
}
