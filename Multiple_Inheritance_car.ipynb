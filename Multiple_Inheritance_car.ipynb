{
 "cells": [
  {
   "cell_type": "code",
   "execution_count": 2,
   "metadata": {},
   "outputs": [],
   "source": [
    "class Car():\n",
    "    '''\n",
    "    Base-class for every kind of car\n",
    "    '''\n",
    "    def __init__(self,wheels=4):\n",
    "        ''' \n",
    "        No matter their engine, every car has for wheels by default\n",
    "        '''\n",
    "    \n",
    "class Gasoline(Car):\n",
    "    '''\n",
    "    Car with Gasoline fluel. Inherits from car\n",
    "    '''\n",
    "    def __init__(self, engine=\"Gasoline\",tank_capacity=20):\n",
    "        '''\n",
    "        Consists of default attributes of car, added by individual attributes of gasoline\n",
    "        '''\n",
    "        Car.__init__(self) # Inherits from Car __init__\n",
    "        self.engine = engine\n",
    "        self.tank_capacity = tank_capacity # represents fuel tank capacity in gallons\n",
    "        self.tank = 0 # Default start fuel value \n",
    "    \n",
    "    def refuel(self):\n",
    "        self.tank = self.tank_capacity\n",
    "\n",
    "\n",
    "class Electric(Car):\n",
    "    '''\n",
    "    Car with Electric engine. Inherits from Car\n",
    "    '''\n",
    "    "
   ]
  },
  {
   "cell_type": "code",
   "execution_count": null,
   "metadata": {},
   "outputs": [],
   "source": []
  }
 ],
 "metadata": {
  "kernelspec": {
   "display_name": "Python 3",
   "language": "python",
   "name": "python3"
  },
  "language_info": {
   "codemirror_mode": {
    "name": "ipython",
    "version": 3
   },
   "file_extension": ".py",
   "mimetype": "text/x-python",
   "name": "python",
   "nbconvert_exporter": "python",
   "pygments_lexer": "ipython3",
   "version": "3.8.3"
  }
 },
 "nbformat": 4,
 "nbformat_minor": 4
}
