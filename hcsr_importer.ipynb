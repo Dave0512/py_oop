{
 "cells": [
  {
   "cell_type": "code",
   "execution_count": 22,
   "metadata": {},
   "outputs": [],
   "source": [
    "import pandas as pd\n",
    "# Achtung: Änderungen Modulen müssen wieder in Master oop Ordner\n",
    "from dir_Module_File_Handling.lst_fil_in_folder import dateien_in_ordner \n",
    "from dir_Database.database import Database\n",
    "\n",
    "import os\n",
    "import pyodbc\n",
    "from sqlalchemy import create_engine\n",
    "import sqlalchemy\n",
    "import urllib"
   ]
  },
  {
   "cell_type": "code",
   "execution_count": 23,
   "metadata": {},
   "outputs": [],
   "source": [
    "cur_path = os.getcwd()\n",
    "lst_hcsr_files = dateien_in_ordner(cur_path,\".xlsm\")"
   ]
  },
  {
   "cell_type": "code",
   "execution_count": 24,
   "metadata": {},
   "outputs": [],
   "source": [
    "df_hcsr = pd.read_excel('01_2020_Health Care Sales Report V2.1_Abbott Medical_AGKAMED.xlsm'\n",
    "                       ,sheet_name='Bewegungsdaten',dtype=str) # skiprows=1,"
   ]
  },
  {
   "cell_type": "code",
   "execution_count": 25,
   "metadata": {},
   "outputs": [],
   "source": [
    "for row in range(df_hcsr.shape[0]): \n",
    "    for col in range(df_hcsr.shape[1]):\n",
    "        if df_hcsr.iat[row,col] == 'L_Quelle_Name*':\n",
    "            row_start = row\n",
    "            break\n"
   ]
  },
  {
   "cell_type": "code",
   "execution_count": 26,
   "metadata": {},
   "outputs": [
    {
     "data": {
      "text/html": [
       "<div>\n",
       "<style scoped>\n",
       "    .dataframe tbody tr th:only-of-type {\n",
       "        vertical-align: middle;\n",
       "    }\n",
       "\n",
       "    .dataframe tbody tr th {\n",
       "        vertical-align: top;\n",
       "    }\n",
       "\n",
       "    .dataframe thead th {\n",
       "        text-align: right;\n",
       "    }\n",
       "</style>\n",
       "<table border=\"1\" class=\"dataframe\">\n",
       "  <thead>\n",
       "    <tr style=\"text-align: right;\">\n",
       "      <th></th>\n",
       "      <th>L_Quelle_Name_MUSS_FELD_</th>\n",
       "      <th>L_Quelle_IDTyp_Auswahl_MUSS_FELD_</th>\n",
       "      <th>L_Quelle_ID_MUSS_FELD_</th>\n",
       "      <th>H_Quelle_Name</th>\n",
       "      <th>H_Quelle_IDTyp_Auswahl</th>\n",
       "      <th>H_Quelle_ID</th>\n",
       "      <th>Einrichtung_MUSS_FELD_</th>\n",
       "      <th>Organisation_ID_Auswahl_MUSS_FELD_</th>\n",
       "      <th>Organisation_ID_MUSS_FELD_</th>\n",
       "      <th>L_Art_Nr_MUSS_FELD_</th>\n",
       "      <th>...</th>\n",
       "      <th>L_WGRP_Intern</th>\n",
       "      <th>L_WGRP_Merkmale_Intern</th>\n",
       "      <th>L_VPE_Auswahl_MUSS_FELD_</th>\n",
       "      <th>L_VPE_Menge_MUSS_FELD_</th>\n",
       "      <th>Faktor_BASISME_VPE_MUSS_FELD_</th>\n",
       "      <th>BASISME_Auswahl_MUSS_FELD_</th>\n",
       "      <th>Steuersatz Landescode_MUSS_FELD_</th>\n",
       "      <th>Steuersatz_MUSS_FELD_</th>\n",
       "      <th>Umsatz_MUSS_FELD_</th>\n",
       "      <th>Bonusrelevant_MUSS_FELD_</th>\n",
       "    </tr>\n",
       "  </thead>\n",
       "  <tbody>\n",
       "    <tr>\n",
       "      <th>1</th>\n",
       "      <td>Abbott</td>\n",
       "      <td>USTID</td>\n",
       "      <td>DE811871646</td>\n",
       "      <td>Abbott Medical GmbH, Wetzlar</td>\n",
       "      <td>USTID</td>\n",
       "      <td>DE811871646</td>\n",
       "      <td>ALFRIED-KRUPP-KRANKENHAUS</td>\n",
       "      <td>KNR</td>\n",
       "      <td>1000045382</td>\n",
       "      <td>22339H</td>\n",
       "      <td>...</td>\n",
       "      <td>HT Workhorse Wires - All Others</td>\n",
       "      <td>NaN</td>\n",
       "      <td>EA</td>\n",
       "      <td>10</td>\n",
       "      <td>1</td>\n",
       "      <td>EA</td>\n",
       "      <td>DE</td>\n",
       "      <td>19</td>\n",
       "      <td>450</td>\n",
       "      <td>J</td>\n",
       "    </tr>\n",
       "  </tbody>\n",
       "</table>\n",
       "<p>1 rows × 26 columns</p>\n",
       "</div>"
      ],
      "text/plain": [
       "0 L_Quelle_Name_MUSS_FELD_ L_Quelle_IDTyp_Auswahl_MUSS_FELD_  \\\n",
       "1                   Abbott                             USTID   \n",
       "\n",
       "0 L_Quelle_ID_MUSS_FELD_                 H_Quelle_Name H_Quelle_IDTyp_Auswahl  \\\n",
       "1            DE811871646  Abbott Medical GmbH, Wetzlar                  USTID   \n",
       "\n",
       "0  H_Quelle_ID     Einrichtung_MUSS_FELD_ Organisation_ID_Auswahl_MUSS_FELD_  \\\n",
       "1  DE811871646  ALFRIED-KRUPP-KRANKENHAUS                                KNR   \n",
       "\n",
       "0 Organisation_ID_MUSS_FELD_ L_Art_Nr_MUSS_FELD_  ...  \\\n",
       "1                 1000045382              22339H  ...   \n",
       "\n",
       "0                    L_WGRP_Intern L_WGRP_Merkmale_Intern  \\\n",
       "1  HT Workhorse Wires - All Others                    NaN   \n",
       "\n",
       "0 L_VPE_Auswahl_MUSS_FELD_ L_VPE_Menge_MUSS_FELD_  \\\n",
       "1                       EA                     10   \n",
       "\n",
       "0 Faktor_BASISME_VPE_MUSS_FELD_ BASISME_Auswahl_MUSS_FELD_  \\\n",
       "1                             1                         EA   \n",
       "\n",
       "0 Steuersatz Landescode_MUSS_FELD_ Steuersatz_MUSS_FELD_ Umsatz_MUSS_FELD_  \\\n",
       "1                               DE                    19               450   \n",
       "\n",
       "0 Bonusrelevant_MUSS_FELD_  \n",
       "1                        J  \n",
       "\n",
       "[1 rows x 26 columns]"
      ]
     },
     "execution_count": 26,
     "metadata": {},
     "output_type": "execute_result"
    }
   ],
   "source": [
    "new_header = df_hcsr.iloc[row_start] #grab the first row for the header\n",
    "df_hcsr = df_hcsr[1:] #take the data less the header row\n",
    "df_hcsr.columns = new_header #set the header row as the df header\n",
    "df_hcsr = df_hcsr.rename(columns = {c: c.replace('*','_MUSS_FELD_') for c in df_hcsr.columns})\n",
    "df_hcsr.head(1)"
   ]
  },
  {
   "cell_type": "code",
   "execution_count": 27,
   "metadata": {},
   "outputs": [
    {
     "name": "stdout",
     "output_type": "stream",
     "text": [
      "<class 'pandas.core.frame.DataFrame'>\n",
      "RangeIndex: 1399 entries, 1 to 1399\n",
      "Data columns (total 26 columns):\n",
      " #   Column                              Non-Null Count  Dtype \n",
      "---  ------                              --------------  ----- \n",
      " 0   L_Quelle_Name_MUSS_FELD_            1399 non-null   object\n",
      " 1   L_Quelle_IDTyp_Auswahl_MUSS_FELD_   1399 non-null   object\n",
      " 2   L_Quelle_ID_MUSS_FELD_              1399 non-null   object\n",
      " 3   H_Quelle_Name                       1399 non-null   object\n",
      " 4   H_Quelle_IDTyp_Auswahl              1399 non-null   object\n",
      " 5   H_Quelle_ID                         1399 non-null   object\n",
      " 6   Einrichtung_MUSS_FELD_              1399 non-null   object\n",
      " 7   Organisation_ID_Auswahl_MUSS_FELD_  1399 non-null   object\n",
      " 8   Organisation_ID_MUSS_FELD_          1399 non-null   object\n",
      " 9   L_Art_Nr_MUSS_FELD_                 1399 non-null   object\n",
      " 10  L_Art_IDTyp_Auswahl                 1399 non-null   object\n",
      " 11  L_Art_ID_MUSS_FELD_                 1399 non-null   object\n",
      " 12  H_Art_Nr_MUSS_FELD_                 1399 non-null   object\n",
      " 13  H_Art_IDTyp_Auswahl                 1399 non-null   object\n",
      " 14  H_Art_ID_MUSS_FELD_                 1399 non-null   object\n",
      " 15  L_Art_Txt_MUSS_FELD_                1399 non-null   object\n",
      " 16  L_WGRP_Intern                       1399 non-null   object\n",
      " 17  L_WGRP_Merkmale_Intern              0 non-null      object\n",
      " 18  L_VPE_Auswahl_MUSS_FELD_            1399 non-null   object\n",
      " 19  L_VPE_Menge_MUSS_FELD_              1399 non-null   object\n",
      " 20  Faktor_BASISME_VPE_MUSS_FELD_       1399 non-null   object\n",
      " 21  BASISME_Auswahl_MUSS_FELD_          1399 non-null   object\n",
      " 22  Steuersatz Landescode_MUSS_FELD_    1399 non-null   object\n",
      " 23  Steuersatz_MUSS_FELD_               1399 non-null   object\n",
      " 24  Umsatz_MUSS_FELD_                   1399 non-null   object\n",
      " 25  Bonusrelevant_MUSS_FELD_            1399 non-null   object\n",
      "dtypes: object(26)\n",
      "memory usage: 142.2+ KB\n"
     ]
    }
   ],
   "source": [
    "df_hcsr.info()"
   ]
  },
  {
   "cell_type": "code",
   "execution_count": 28,
   "metadata": {},
   "outputs": [],
   "source": [
    "def _verbinde_ms_sql():\n",
    "    server_login = urllib.parse.quote_plus(r\"DRIVER={SQL Server Native Client 11.0};\"\n",
    "                                           r\"SERVER=192.168.16.124;\"\n",
    "                                           r\"DATABASE=Vorlauf_DB;\"\n",
    "                                           r\"Trusted_Connection=yes;\")\n",
    "    server_verbindung = sqlalchemy.create_engine(\"mssql+pyodbc:///?odbc_connect={}\".format(server_login))\n",
    "    return server_verbindung"
   ]
  },
  {
   "cell_type": "code",
   "execution_count": 29,
   "metadata": {},
   "outputs": [],
   "source": [
    "# Push dataframe to database\n",
    "#server_verbindung = _verbinde_ms_sql()\n",
    "#df_hcsr.to_sql(\"hcsr\",con=server_verbindung,if_exists='append',index=False)"
   ]
  },
  {
   "cell_type": "markdown",
   "metadata": {},
   "source": [
    "## Import HCSR\n",
    "- Import-Formate .xlsx / .xlsm / .xml / .csv\n",
    "- Auslesen Tabelle: Bewegungsdaten und Steuerdaten - Kopfdaten\n",
    "\n",
    "## \n",
    "\n",
    "## Vorprüfung HCSR\n",
    "\n",
    "- Tabelle Lieferanten (UstID, Bez, \n",
    "- Prüfung Steuertabelle \n",
    "\n",
    "## Dashboard\n",
    "\n",
    "- Umformung HCSR in AGKAMED Format\n",
    "- PowerBI Bericht - Exportieren "
   ]
  },
  {
   "cell_type": "code",
   "execution_count": 30,
   "metadata": {},
   "outputs": [],
   "source": [
    "path = \"G\\:\\\\11\\ \\-\\ Vertragscontrolling\""
   ]
  },
  {
   "cell_type": "code",
   "execution_count": 31,
   "metadata": {},
   "outputs": [],
   "source": [
    "#os.listdir(path)"
   ]
  },
  {
   "cell_type": "code",
   "execution_count": null,
   "metadata": {},
   "outputs": [],
   "source": []
  }
 ],
 "metadata": {
  "kernelspec": {
   "display_name": "Python 3",
   "language": "python",
   "name": "python3"
  },
  "language_info": {
   "codemirror_mode": {
    "name": "ipython",
    "version": 3
   },
   "file_extension": ".py",
   "mimetype": "text/x-python",
   "name": "python",
   "nbconvert_exporter": "python",
   "pygments_lexer": "ipython3",
   "version": "3.8.1"
  }
 },
 "nbformat": 4,
 "nbformat_minor": 4
}
